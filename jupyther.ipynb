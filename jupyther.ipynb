{
 "cells": [
  {
   "cell_type": "code",
   "execution_count": 10,
   "metadata": {},
   "outputs": [],
   "source": [
    "import pandas\n",
    "import numpy\n",
    "import sklearn\n",
    "import matplotlib\n"
   ]
  },
  {
   "cell_type": "code",
   "execution_count": 11,
   "metadata": {},
   "outputs": [
    {
     "data": {
      "text/html": [
       "<div>\n",
       "<style scoped>\n",
       "    .dataframe tbody tr th:only-of-type {\n",
       "        vertical-align: middle;\n",
       "    }\n",
       "\n",
       "    .dataframe tbody tr th {\n",
       "        vertical-align: top;\n",
       "    }\n",
       "\n",
       "    .dataframe thead th {\n",
       "        text-align: right;\n",
       "    }\n",
       "</style>\n",
       "<table border=\"1\" class=\"dataframe\">\n",
       "  <thead>\n",
       "    <tr style=\"text-align: right;\">\n",
       "      <th></th>\n",
       "      <th>id</th>\n",
       "      <th>col_0</th>\n",
       "      <th>col_1</th>\n",
       "      <th>col_2</th>\n",
       "      <th>col_3</th>\n",
       "      <th>col_4</th>\n",
       "      <th>col_5</th>\n",
       "      <th>col_6</th>\n",
       "      <th>col_7</th>\n",
       "      <th>col_8</th>\n",
       "      <th>col_9</th>\n",
       "      <th>col_10</th>\n",
       "      <th>col_11</th>\n",
       "      <th>col_12</th>\n",
       "      <th>target</th>\n",
       "    </tr>\n",
       "  </thead>\n",
       "  <tbody>\n",
       "    <tr>\n",
       "      <th>0</th>\n",
       "      <td>12251</td>\n",
       "      <td>38.763463</td>\n",
       "      <td>4.372530</td>\n",
       "      <td>2.888516</td>\n",
       "      <td>12.352539</td>\n",
       "      <td>18.906550</td>\n",
       "      <td>9.605924</td>\n",
       "      <td>3.456596</td>\n",
       "      <td>3.959477</td>\n",
       "      <td>4.738227</td>\n",
       "      <td>3.692509</td>\n",
       "      <td>11.192263</td>\n",
       "      <td>9.076242</td>\n",
       "      <td>4.692962</td>\n",
       "      <td>2</td>\n",
       "    </tr>\n",
       "    <tr>\n",
       "      <th>1</th>\n",
       "      <td>4529</td>\n",
       "      <td>32.192181</td>\n",
       "      <td>3.158109</td>\n",
       "      <td>2.134617</td>\n",
       "      <td>16.193530</td>\n",
       "      <td>26.786878</td>\n",
       "      <td>9.347958</td>\n",
       "      <td>5.093277</td>\n",
       "      <td>6.893790</td>\n",
       "      <td>3.399840</td>\n",
       "      <td>2.080853</td>\n",
       "      <td>19.486692</td>\n",
       "      <td>12.349952</td>\n",
       "      <td>3.217670</td>\n",
       "      <td>0</td>\n",
       "    </tr>\n",
       "    <tr>\n",
       "      <th>2</th>\n",
       "      <td>11284</td>\n",
       "      <td>28.370782</td>\n",
       "      <td>3.006067</td>\n",
       "      <td>1.969280</td>\n",
       "      <td>15.163950</td>\n",
       "      <td>28.515109</td>\n",
       "      <td>7.946870</td>\n",
       "      <td>5.609813</td>\n",
       "      <td>6.511194</td>\n",
       "      <td>3.256799</td>\n",
       "      <td>2.290993</td>\n",
       "      <td>18.405205</td>\n",
       "      <td>14.781329</td>\n",
       "      <td>3.231217</td>\n",
       "      <td>0</td>\n",
       "    </tr>\n",
       "    <tr>\n",
       "      <th>3</th>\n",
       "      <td>10993</td>\n",
       "      <td>38.215409</td>\n",
       "      <td>2.174232</td>\n",
       "      <td>2.935104</td>\n",
       "      <td>11.501867</td>\n",
       "      <td>18.419571</td>\n",
       "      <td>7.954005</td>\n",
       "      <td>4.229832</td>\n",
       "      <td>4.522060</td>\n",
       "      <td>4.869234</td>\n",
       "      <td>3.383514</td>\n",
       "      <td>12.782517</td>\n",
       "      <td>17.343742</td>\n",
       "      <td>5.009182</td>\n",
       "      <td>2</td>\n",
       "    </tr>\n",
       "    <tr>\n",
       "      <th>4</th>\n",
       "      <td>12927</td>\n",
       "      <td>38.904545</td>\n",
       "      <td>2.956164</td>\n",
       "      <td>2.253149</td>\n",
       "      <td>12.282552</td>\n",
       "      <td>25.547887</td>\n",
       "      <td>8.168776</td>\n",
       "      <td>3.653026</td>\n",
       "      <td>6.809110</td>\n",
       "      <td>4.971130</td>\n",
       "      <td>2.127363</td>\n",
       "      <td>19.247327</td>\n",
       "      <td>20.115183</td>\n",
       "      <td>3.560524</td>\n",
       "      <td>3</td>\n",
       "    </tr>\n",
       "  </tbody>\n",
       "</table>\n",
       "</div>"
      ],
      "text/plain": [
       "      id      col_0     col_1     col_2      col_3      col_4     col_5  \\\n",
       "0  12251  38.763463  4.372530  2.888516  12.352539  18.906550  9.605924   \n",
       "1   4529  32.192181  3.158109  2.134617  16.193530  26.786878  9.347958   \n",
       "2  11284  28.370782  3.006067  1.969280  15.163950  28.515109  7.946870   \n",
       "3  10993  38.215409  2.174232  2.935104  11.501867  18.419571  7.954005   \n",
       "4  12927  38.904545  2.956164  2.253149  12.282552  25.547887  8.168776   \n",
       "\n",
       "      col_6     col_7     col_8     col_9     col_10     col_11    col_12  \\\n",
       "0  3.456596  3.959477  4.738227  3.692509  11.192263   9.076242  4.692962   \n",
       "1  5.093277  6.893790  3.399840  2.080853  19.486692  12.349952  3.217670   \n",
       "2  5.609813  6.511194  3.256799  2.290993  18.405205  14.781329  3.231217   \n",
       "3  4.229832  4.522060  4.869234  3.383514  12.782517  17.343742  5.009182   \n",
       "4  3.653026  6.809110  4.971130  2.127363  19.247327  20.115183  3.560524   \n",
       "\n",
       "   target  \n",
       "0       2  \n",
       "1       0  \n",
       "2       0  \n",
       "3       2  \n",
       "4       3  "
      ]
     },
     "execution_count": 11,
     "metadata": {},
     "output_type": "execute_result"
    }
   ],
   "source": [
    "trainFile = pandas.read_csv(\"treino.csv\")\n",
    "trainFile.head()"
   ]
  },
  {
   "cell_type": "code",
   "execution_count": 14,
   "metadata": {},
   "outputs": [
    {
     "data": {
      "text/plain": [
       "<Axes: xlabel='target'>"
      ]
     },
     "execution_count": 14,
     "metadata": {},
     "output_type": "execute_result"
    },
    {
     "data": {
      "image/png": "[encoded data removed]",
      "text/plain": [
       "<Figure size 640x480 with 1 Axes>"
      ]
     },
     "metadata": {},
     "output_type": "display_data"
    }
   ],
   "source": [
    "trainFile[\"target\"].value_counts().plot(kind=\"bar\", color=[\"Khaki\", \"aqua\", \"red\", \"blue\", \"SpringGreen\"])"
   ]
  },
  {
   "cell_type": "markdown",
   "metadata": {},
   "source": [
    "- 0: Desert Planet\n",
    "- 1: Volcanic Planet\n",
    "- 2: Oceanic Planet\n",
    "- 3: Forest Planet\n",
    "- 4: Ice planet"
   ]
  }
 ],
 "metadata": {
  "kernelspec": {
   "display_name": ".venv",
   "language": "python",
   "name": "python3"
  },
  "language_info": {
   "codemirror_mode": {
    "name": "ipython",
    "version": 3
   },
   "file_extension": ".py",
   "mimetype": "text/x-python",
   "name": "python",
   "nbconvert_exporter": "python",
   "pygments_lexer": "ipython3",
   "version": "3.12.2"
  }
 },
 "nbformat": 4,
 "nbformat_minor": 2
}
